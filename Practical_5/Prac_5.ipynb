{
 "cells": [
  {
   "cell_type": "code",
   "execution_count": 1,
   "metadata": {},
   "outputs": [],
   "source": [
    "import cv2\n",
    "import numpy as np"
   ]
  },
  {
   "cell_type": "code",
   "execution_count": 33,
   "metadata": {},
   "outputs": [],
   "source": [
    "# Load an image\n",
    "img = cv2.imread(\"../assets/nosiyCameraMan.jpg\")"
   ]
  },
  {
   "cell_type": "code",
   "execution_count": 34,
   "metadata": {},
   "outputs": [],
   "source": [
    "# Get the current size of the image\n",
    "height, width, _ = img.shape\n",
    "\n",
    "# Scale down the image to half its original size\n",
    "img = cv2.resize(img, (int(width/1.4), int(height/1.4)))"
   ]
  },
  {
   "cell_type": "code",
   "execution_count": 35,
   "metadata": {},
   "outputs": [],
   "source": [
    "# Convert image to grayscale\n",
    "gray = cv2.cvtColor(img, cv2.COLOR_BGR2GRAY)\n",
    "\n",
    "# Define 3x3 and 5x5 kernels for filtering\n",
    "kernel_3x3 = np.ones((3,3),np.float32)/9\n",
    "kernel_5x5 = np.ones((5,5),np.float32)/25\n",
    "\n",
    "# Apply low pass filter using 3x3 kernel\n",
    "lpf_3x3 = cv2.filter2D(gray, -1, kernel_3x3)\n",
    "\n",
    "# Apply low pass filter using 5x5 kernel\n",
    "lpf_5x5 = cv2.filter2D(gray, -1, kernel_5x5)\n",
    "\n",
    "# Apply high pass filter using 3x3 kernel\n",
    "hpf_3x3 = gray - lpf_3x3\n",
    "\n",
    "# Apply high pass filter using 5x5 kernel\n",
    "hpf_5x5 = gray - lpf_5x5\n",
    "\n",
    "# Apply median filter using 3x3 kernel\n",
    "mf_3x3 = cv2.medianBlur(gray, 3)\n",
    "\n",
    "# Apply median filter using 5x5 kernel\n",
    "mf_5x5 = cv2.medianBlur(gray, 5)\n",
    "\n",
    "# Display the filtered images\n",
    "cv2.imshow(\"Input Image\", img)\n",
    "cv2.imshow(\"3x3 Low Pass Filter\", lpf_3x3)\n",
    "cv2.imshow(\"5x5 Low Pass Filter\", lpf_5x5)\n",
    "cv2.imshow(\"3x3 High Pass Filter\", hpf_3x3)\n",
    "cv2.imshow(\"5x5 High Pass Filter\", hpf_5x5)\n",
    "cv2.imshow(\"3x3 Median Filter\", mf_3x3)\n",
    "cv2.imshow(\"5x5 Median Filter\", mf_5x5)\n",
    "\n",
    "# Wait for a key press and then exit\n",
    "cv2.waitKey(0)\n",
    "cv2.destroyAllWindows()\n"
   ]
  }
 ],
 "metadata": {
  "kernelspec": {
   "display_name": "Python 3",
   "language": "python",
   "name": "python3"
  },
  "language_info": {
   "codemirror_mode": {
    "name": "ipython",
    "version": 3
   },
   "file_extension": ".py",
   "mimetype": "text/x-python",
   "name": "python",
   "nbconvert_exporter": "python",
   "pygments_lexer": "ipython3",
   "version": "3.9.5"
  },
  "orig_nbformat": 4
 },
 "nbformat": 4,
 "nbformat_minor": 2
}
