{
 "cells": [
  {
   "cell_type": "code",
   "execution_count": 22,
   "metadata": {},
   "outputs": [],
   "source": [
    "import cv2\n",
    "import numpy as np"
   ]
  },
  {
   "cell_type": "code",
   "execution_count": 29,
   "metadata": {},
   "outputs": [],
   "source": [
    "# Load the image\n",
    "img = cv2.imread('../assets/Krishna.png')"
   ]
  },
  {
   "cell_type": "code",
   "execution_count": 32,
   "metadata": {},
   "outputs": [],
   "source": [
    "# Get the current size of the image\n",
    "height, width, _ = img.shape\n",
    "\n",
    "# Scale down the image to half its original size\n",
    "img = cv2.resize(img, (int(width/3), int(height/3)))"
   ]
  },
  {
   "cell_type": "code",
   "execution_count": 31,
   "metadata": {},
   "outputs": [],
   "source": [
    "# Define the kernel\n",
    "kernel = np.ones((5,5), np.uint8)\n",
    "\n",
    "# Erosion\n",
    "erosion = cv2.erode(img, kernel, iterations = 1)\n",
    "\n",
    "# Dilation\n",
    "dilation = cv2.dilate(img, kernel, iterations = 1)\n",
    "\n",
    "# Opening\n",
    "opening = cv2.morphologyEx(img, cv2.MORPH_OPEN, kernel)\n",
    "\n",
    "# Closing\n",
    "closing = cv2.morphologyEx(img, cv2.MORPH_CLOSE, kernel)\n",
    "\n",
    "# Display the images\n",
    "cv2.imshow('Original', img)\n",
    "cv2.imshow('Erosion', erosion)\n",
    "cv2.imshow('Dilation', dilation)\n",
    "cv2.imshow('Opening', opening)\n",
    "cv2.imshow('Closing', closing)\n",
    "\n",
    "cv2.waitKey(0)\n",
    "cv2.destroyAllWindows()\n"
   ]
  },
  {
   "cell_type": "code",
   "execution_count": null,
   "metadata": {},
   "outputs": [],
   "source": []
  }
 ],
 "metadata": {
  "kernelspec": {
   "display_name": "Python 3",
   "language": "python",
   "name": "python3"
  },
  "language_info": {
   "codemirror_mode": {
    "name": "ipython",
    "version": 3
   },
   "file_extension": ".py",
   "mimetype": "text/x-python",
   "name": "python",
   "nbconvert_exporter": "python",
   "pygments_lexer": "ipython3",
   "version": "3.9.5"
  },
  "orig_nbformat": 4
 },
 "nbformat": 4,
 "nbformat_minor": 2
}
